{
 "cells": [
  {
   "cell_type": "markdown",
   "id": "1517a401",
   "metadata": {},
   "source": [
    "Question 1"
   ]
  },
  {
   "cell_type": "code",
   "execution_count": 2,
   "id": "5d59273b",
   "metadata": {},
   "outputs": [
    {
     "name": "stdout",
     "output_type": "stream",
     "text": [
      "24\n"
     ]
    }
   ],
   "source": [
    "import numpy as np\n",
    "a = 6\n",
    "b = 4\n",
    "c = np.multiply(a, b)\n",
    "print(c)"
   ]
  },
  {
   "cell_type": "markdown",
   "id": "b58f3d16",
   "metadata": {},
   "source": [
    "Question 2"
   ]
  },
  {
   "cell_type": "markdown",
   "id": "ec0ed2c7",
   "metadata": {},
   "source": [
    "In the cell below your code, add an image from Google images of somewhere inspiring along with a short caption that includes bold, italics and a link to the webpage that displays this image. Use the following as a guide: https://www.markdownguide.org/basic-syntax/. Remember the image should be saved in the same folder as your answers notebook (i.e. /geospatial-data-science/labs/lab1/).\n",
    "\n",
    "Once you have done this, save and close your answers notebook."
   ]
  },
  {
   "cell_type": "markdown",
   "id": "429e8c9f-4cb0-40f7-aa37-496471d7c667",
   "metadata": {},
   "source": [
    "Look at this cute <strong> pug </strong> that I found on <em> Wikipedia.</em> Pugs are really adorable but also <strong> high maintenance </strong>\n",
    "\n",
    "I did attempt to link the file of the pug through my folders but Insang Song and I could not figure it out. The picture was in my lab 1 folder as well and we did try to change the Jpeg file to JPG but nothing would change\n",
    "\n",
    "![](/Users/alanpulido/Documents/GitHub/geospatial-data-science/labs/lab1/wikipug.jpg)\n",
    "\n",
    "![](https://upload.wikimedia.org/wikipedia/commons/f/f0/Mops_oct09_cropped2.jpg)"
   ]
  }
 ],
 "metadata": {
  "kernelspec": {
   "display_name": "Python 3 (ipykernel)",
   "language": "python",
   "name": "python3"
  },
  "language_info": {
   "codemirror_mode": {
    "name": "ipython",
    "version": 3
   },
   "file_extension": ".py",
   "mimetype": "text/x-python",
   "name": "python",
   "nbconvert_exporter": "python",
   "pygments_lexer": "ipython3",
   "version": "3.9.7"
  }
 },
 "nbformat": 4,
 "nbformat_minor": 5
}
